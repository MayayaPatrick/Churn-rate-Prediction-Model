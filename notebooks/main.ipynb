{
 "cells": [
  {
   "cell_type": "markdown",
   "metadata": {},
   "source": [
    "## **Customer Churn rate Prediction Model**\n",
    "\n",
    "#### **Business Understanding**\n",
    "\n",
    "Customer attrition, or churn, is one of the most significant expenses for any organization. It represents the percentage of customers who discontinue using a company's product or service within a given timeframe. For example, if a company starts the year with 500 customers and ends with 480, the churn rate would be 4%. Understanding and mitigating this churn is crucial for sustaining growth and profitability.\n",
    "\n",
    "##### Problem Statement\n",
    "A few months ago, Vodafone experienced a significant loss of customers due to heightened competition within the telecommunications industry. This decline in customer retention has adversely impacted their revenue and profit margins. To address this issue and improve their competitive position, Vodafone aims to understand the factors contributing to customer churn and develop effective strategies to retain their customers.\n",
    "\n",
    "\n",
    " ##### Project Goal\n",
    "\n",
    "By leveraging advanced data analytics and machine learning techniques, we aim to provide Vodafone with valuable insights and tools to effectively combat customer churn and strengthen their market position.\n",
    "\n",
    "In this project, we will analyze Vodafone's customer data to:\n",
    "\n",
    "-Identify Key Indicators of Churn: Determine the primary factors that influence customers to leave Vodafone, such as service quality, pricing, customer support, and promotional offers.\n",
    "\n",
    "-Predict Customer Churn: Develop a predictive model to accurately identify customers at risk of churning, allowing proactive retention efforts.\n",
    "\n",
    "-Develop Retention Strategies: Suggest actionable strategies based on the analysis to improve customer satisfaction and loyalty, ultimately reducing churn rates and enhancing Vodafone's revenue and profitability.\n",
    "\n",
    "\n",
    "\n",
    "##### Stakeholders\n",
    "\n",
    "- Management\n",
    "- Marketing\n",
    "- Data Team\n",
    "\n",
    "##### Key Metrics and Success Criteria \n",
    "\n",
    "1. Accuracy- The model should have an accuracy score of 85% (On balanced data). Good models are expected to have an accuracy score of >0.80 or 80%\n",
    "2. Threshold for precision and Recall- The model should achieve a precision and recall at least 80%. This assures that the model is reliable in predicting churn and identifying most of the actual churn.\n",
    "3. Minimu F1 Score- The F1 score should be at least 0.75. This balances the trade off between precision and recalls, indicating the model performs well even if the clas distribution is imbalanced.\n",
    "4. AUC-ROC Score- This should be at least 0.85. A high AUC-ROC score indicates that the model is effective in distinguishing between churn and not churn customers.\n",
    "5. Confusion Matrix- The number of False Negatives (FN) should be lower to ensure that most of the churn cases are identified.\n",
    "6. Lift and Gain- The lift value at the top decline (top ten of predicted probabilities) should be significantly higher than 1 indicating that the model effectively has high risk of churn customers.\n",
    "\n",
    "\n",
    "\n",
    "##### Features\n",
    "\n",
    "CustomerID-- A unique customer identification\n",
    "\n",
    "Gender -- Whether the customer is a male or a female\n",
    "\n",
    "SeniorCitizen -- Whether a customer is a senior citizen or not\n",
    "\n",
    "Partner -- Whether the customer has a partner or not (Yes, No)\n",
    "\n",
    "Dependents -- Whether the customer has dependents or not (Yes, No)\n",
    "\n",
    "Tenure -- Number of months the customer has stayed with the company\n",
    "\n",
    "Phone Service -- Whether the customer has a phone service or not (Yes, No)\n",
    "\n",
    "MultipleLines -- Whether the customer has multiple lines or not\n",
    "\n",
    "InternetService -- Customer's internet service provider (DSL, Fiber Optic, No)\n",
    "\n",
    "OnlineSecurity -- Whether the customer has online security or not (Yes, No, No Internet)\n",
    "\n",
    "OnlineBackup -- Whether the customer has online backup or not (Yes, No, No Internet)\n",
    "\n",
    "DeviceProtection -- Whether the customer has device protection or not (Yes, No, No internet service)\n",
    "\n",
    "TechSupport -- Whether the customer has tech support or not (Yes, No, No internet)\n",
    "\n",
    "StreamingTV -- Whether the customer has streaming TV or not (Yes, No, No internet service)\n",
    "\n",
    "StreamingTV -- Whether the customer has streaming TV or not (Yes, No, No internet service)\n",
    "\n",
    "StreamingMovies -- Whether the customer has streaming movies or not (Yes, No, No Internet service)\n",
    "\n",
    "Contract -- The contract term of the customer (Month-to-Month, One year, Two year)\n",
    "\n",
    "PaperlessBilling -- Whether the customer has paperless billing or not (Yes, No)\n",
    "\n",
    "Payment Method -- The customer's payment method (Electronic check, mailed check, Bank transfer(automatic), Credit card(automatic))\n",
    "\n",
    "MonthlyCharges -- The amount charged to the customer monthly\n",
    "\n",
    "TotalCharges -- The total amount charged to the customer\n",
    "\n",
    "Churn -- Whether the customer churned or not (Yes or No)"
   ]
  },
  {
   "cell_type": "code",
   "execution_count": 2,
   "metadata": {},
   "outputs": [],
   "source": [
    "# %pip install pyodbc  \n",
    "# %pip install python-dotenv \n",
    "# %pip install matplotlib\n",
    "# %pip install seaborn\n",
    "# %pip install scikit-learn\n",
    "# %pip install sqlalchemy pyodbc\n",
    "# %pip install openpyxl\n",
    "# %pip install statsmodels\n",
    "# %pip install pandas plotly openpyxl\n",
    "# # %pip install --upgrade pip\n",
    "# %pip install nbformat\n",
    "# %pip install xgboost\n",
    "# %pip install phik \n",
    "# %pip install imbalanced-learn"
   ]
  },
  {
   "cell_type": "code",
   "execution_count": 6,
   "metadata": {},
   "outputs": [],
   "source": [
    "# Data Manipulation Packages \n",
    "\n",
    "import pandas as pd\n",
    "import numpy as np \n",
    "import matplotlib.pyplot as plt\n",
    "import seaborn as sns\n",
    "import statsmodels.api as sm\n",
    "import pyodbc\n",
    "from dotenv import dotenv_values\n",
    "import scipy.stats as stats\n",
    "import warnings\n",
    "\n",
    "from scipy.stats import chi2_contingency\n",
    "from sklearn.model_selection import train_test_split\n",
    "from sklearn.preprocessing import StandardScaler, OneHotEncoder\n",
    "from sklearn.preprocessing import StandardScaler, LabelEncoder\n",
    "from sklearn.pipeline import Pipeline, FeatureUnion\n",
    "from sklearn.impute import SimpleImputer\n",
    "from sklearn.preprocessing import RobustScaler, QuantileTransformer\n",
    "from sklearn.compose import ColumnTransformer\n",
    "from sklearn.ensemble import RandomForestClassifier\n",
    "from sklearn.linear_model import LogisticRegression\n",
    "from sklearn.tree import DecisionTreeClassifier\n",
    "from sklearn.neighbors import KNeighborsClassifier\n",
    "from sklearn.svm import SVC\n",
    "from sklearn.ensemble import GradientBoostingClassifier\n",
    "from sklearn.neural_network import MLPClassifier\n",
    "from sklearn.metrics import accuracy_score, confusion_matrix, classification_report\n",
    "from sklearn.metrics import roc_auc_score, roc_curve, auc, precision_score, recall_score, f1_score \n",
    "from sklearn.model_selection import cross_val_score, GridSearchCV\n",
    "\n",
    "from sklearn.impute import SimpleImputer\n",
    "from sklearn.preprocessing import RobustScaler, QuantileTransformer\n",
    "from sklearn.compose import ColumnTransformer\n",
    "from sklearn.ensemble import RandomForestClassifier\n",
    "from sklearn.linear_model import LogisticRegression\n",
    "from sklearn.tree import DecisionTreeClassifier\n",
    "from sklearn.neighbors import KNeighborsClassifier\n",
    "from sklearn.svm import SVC\n",
    "from sklearn.ensemble import GradientBoostingClassifier\n",
    "from sklearn.neural_network import MLPClassifier\n",
    "from sklearn.metrics import accuracy_score, confusion_matrix, classification_report\n",
    "from sklearn.metrics import roc_auc_score, roc_curve, auc, precision_score, recall_score, f1_score \n",
    "from sklearn.model_selection import cross_val_score, GridSearchCV\n",
    "\n",
    "from sklearn.impute import SimpleImputer\n",
    "from sklearn.preprocessing import RobustScaler, QuantileTransformer\n",
    "from sklearn.compose import ColumnTransformer\n",
    "from sklearn.ensemble import RandomForestClassifier\n",
    "from sklearn.linear_model import LogisticRegression\n",
    "from sklearn.tree import DecisionTreeClassifier\n",
    "from sklearn.neighbors import KNeighborsClassifier\n",
    "from sklearn.svm import SVC\n",
    "from sklearn.ensemble import GradientBoostingClassifier\n",
    "from sklearn.neural_network import MLPClassifier\n",
    "from sklearn.metrics import accuracy_score, confusion_matrix, classification_report\n",
    "from sklearn.metrics import roc_auc_score, roc_curve, auc, precision_score, recall_score, f1_score \n",
    "from sklearn.model_selection import cross_val_score, GridSearchCV\n",
    "warnings.filterwarnings('ignore')\n",
    "\n"
   ]
  },
  {
   "cell_type": "code",
   "execution_count": 7,
   "metadata": {},
   "outputs": [
    {
     "name": "stdout",
     "output_type": "stream",
     "text": [
      "Connection successful\n"
     ]
    }
   ],
   "source": [
    "#Load environment variables from .env file into a dictionary\n",
    "environment_variables = dotenv_values(r'G:\\python\\python project\\project\\Churn-rate-Prediction-Model\\.env')\n",
    "\n",
    "#Get the values for the credentials you set in the '.env' file\n",
    "server = environment_variables.get(\"SERVER\")\n",
    "database = environment_variables.get(\"DATABASE\")\n",
    "username = environment_variables.get(\"USERNAME\")\n",
    "password = environment_variables.get(\"PASSWORD\")\n",
    "\n",
    "#Create a connection string\n",
    "connection_string = f\"DRIVER={{ODBC Driver 18 for SQL Server}};SERVER={server};DATABASE={database};UID={username};PWD={password};Encrypt=yes;TrustServerCertificate=no;Connection Timeout=200\"\n",
    "\n",
    "connection = pyodbc.connect(connection_string)\n",
    "print(\"Connection successful\")"
   ]
  },
  {
   "cell_type": "markdown",
   "metadata": {},
   "source": [
    "### **Exploring All Datasets (EDA) & Data Cleaning**"
   ]
  },
  {
   "cell_type": "markdown",
   "metadata": {},
   "source": [
    "#### **Load Datasets**"
   ]
  },
  {
   "cell_type": "code",
   "execution_count": 7,
   "metadata": {},
   "outputs": [],
   "source": [
    "# # Loading the First 3000 dataset\n",
    "# query = \"SELECT * FROM LP2_Telco_churn_first_3000\"\n",
    "\n",
    "# data = pd.read_sql(query, connection)\n",
    "\n",
    "# data.head()"
   ]
  },
  {
   "cell_type": "code",
   "execution_count": 8,
   "metadata": {},
   "outputs": [],
   "source": [
    "# data.info()"
   ]
  },
  {
   "cell_type": "code",
   "execution_count": 9,
   "metadata": {},
   "outputs": [],
   "source": [
    "# data.head()"
   ]
  },
  {
   "cell_type": "markdown",
   "metadata": {},
   "source": [
    "### ***Import the second data set and third**"
   ]
  },
  {
   "cell_type": "code",
   "execution_count": 10,
   "metadata": {},
   "outputs": [],
   "source": [
    "# data2= pd.read_csv(r\"G:\\python\\python project\\project\\Churn-rate-Prediction-Model\\data\\LP2_Telco-churn-second-2000.csv\")\n",
    "# data3= pd.read_excel(r\"G:\\python\\python project\\project\\Churn-rate-Prediction-Model\\data\\Telco-churn-last-2000.xlsx\") "
   ]
  },
  {
   "cell_type": "code",
   "execution_count": 11,
   "metadata": {},
   "outputs": [],
   "source": [
    "# data2.head()"
   ]
  },
  {
   "cell_type": "code",
   "execution_count": 12,
   "metadata": {},
   "outputs": [],
   "source": [
    "# data.info()"
   ]
  },
  {
   "cell_type": "code",
   "execution_count": null,
   "metadata": {},
   "outputs": [],
   "source": []
  },
  {
   "cell_type": "markdown",
   "metadata": {},
   "source": [
    "##### Merge  datasets 1 and 2 for traing"
   ]
  },
  {
   "cell_type": "code",
   "execution_count": 13,
   "metadata": {},
   "outputs": [],
   "source": [
    "# train= pd.concat([data,data2], ignore_index= True)\n",
    "# train"
   ]
  },
  {
   "cell_type": "code",
   "execution_count": 14,
   "metadata": {},
   "outputs": [],
   "source": [
    "# train.replace(True, 'Yes', inplace=True)\n",
    "# train.replace(False, 'No', inplace=True)\n",
    "# train"
   ]
  },
  {
   "cell_type": "code",
   "execution_count": 15,
   "metadata": {},
   "outputs": [],
   "source": [
    "# train['TotalCharges'] = pd.to_numeric(train['TotalCharges'], errors='coerce')"
   ]
  },
  {
   "cell_type": "code",
   "execution_count": 16,
   "metadata": {},
   "outputs": [],
   "source": [
    "# train.info()"
   ]
  },
  {
   "cell_type": "code",
   "execution_count": 17,
   "metadata": {},
   "outputs": [],
   "source": [
    "# train.head()"
   ]
  },
  {
   "cell_type": "code",
   "execution_count": 18,
   "metadata": {},
   "outputs": [],
   "source": [
    "# train.tail()"
   ]
  },
  {
   "cell_type": "code",
   "execution_count": 19,
   "metadata": {},
   "outputs": [],
   "source": [
    "# train.isnull().sum().to_frame('Null Count').assign(Percentage=lambda x: (x['Null Count'] / len(train)) * 100)"
   ]
  },
  {
   "cell_type": "code",
   "execution_count": 20,
   "metadata": {},
   "outputs": [],
   "source": [
    "# train.duplicated().sum()"
   ]
  },
  {
   "cell_type": "code",
   "execution_count": 21,
   "metadata": {},
   "outputs": [],
   "source": [
    "# train.describe(include= 'object').T"
   ]
  },
  {
   "cell_type": "code",
   "execution_count": 22,
   "metadata": {},
   "outputs": [],
   "source": [
    "# columns= train.columns\n",
    "# columns"
   ]
  },
  {
   "cell_type": "code",
   "execution_count": 23,
   "metadata": {},
   "outputs": [],
   "source": [
    "# # Unique values in each column\n",
    "# for column in columns:\n",
    "#     print(f'{column}')\n",
    "#     print(f'There are {train[column].unique().size} unique values')\n",
    "#     print(f'These are {train[column].unique()}')\n",
    "#     print('=' * 50)"
   ]
  },
  {
   "cell_type": "markdown",
   "metadata": {},
   "source": [
    "##### Key Insights\n",
    "- There some null values and unique values in the datasets\n",
    "- There are no duplicated values for this project.\n",
    "- From the mean and median in total charges it not the same hence there will be a lot of outliers."
   ]
  },
  {
   "cell_type": "markdown",
   "metadata": {},
   "source": [
    "# Univariate Analysis"
   ]
  },
  {
   "cell_type": "code",
   "execution_count": 24,
   "metadata": {},
   "outputs": [],
   "source": [
    "# train.hist(figsize=(16,8), grid =False, color='skyblue')\n",
    "\n",
    "# plt.suptitle('Histograms of Numerical Features', x=0.5, y=1.02, fontsize=16)\n",
    "\n",
    "# plt.show()"
   ]
  },
  {
   "cell_type": "code",
   "execution_count": 25,
   "metadata": {},
   "outputs": [],
   "source": [
    "# # Create a figure with the specified size\n",
    "# plt.figure(figsize=(10,8))\n",
    "# sns.kdeplot(train.drop(['SeniorCitizen','TotalCharges'], axis=1), color='skyblue')\n",
    "# plt.grid(False)\n",
    "# plt.title('Kernel Density Estimation of Numerical Features of Tenure & Monthly Charges', fontsize=16)\n",
    "\n",
    "# plt.show()"
   ]
  },
  {
   "cell_type": "code",
   "execution_count": 26,
   "metadata": {},
   "outputs": [],
   "source": [
    "# plt.figure(figsize=(14,10))\n",
    "# sns.kdeplot(train['TotalCharges'])\n",
    "\n",
    "# plt.title('Kernel Density Estimation of Numerical Features of Total Charges', fontsize=16)\n",
    "# plt.show()"
   ]
  },
  {
   "cell_type": "code",
   "execution_count": 28,
   "metadata": {},
   "outputs": [],
   "source": [
    "# plt.figure(figsize=(14,10))\n",
    "# sns.kdeplot(train['SeniorCitizen'])\n",
    "\n",
    "# plt.title('Kernel Density Estimation of Numerical Features of Senior Citizen', fontsize=16)\n",
    "# plt.show()"
   ]
  },
  {
   "cell_type": "code",
   "execution_count": 29,
   "metadata": {},
   "outputs": [],
   "source": [
    "# # Create a box plot for multiple columns\n",
    "# plt.figure(figsize=(10, 6))\n",
    "# sns.boxplot(train[['tenure', 'MonthlyCharges']])\n",
    " \n",
    "# # Add titles and labels\n",
    "# plt.title('Box Plot of tenure & Monthly Charges')\n",
    "# plt.xlabel('Variables')\n",
    "# plt.ylabel('Distribution')\n",
    " \n",
    "# plt.grid(False)\n",
    " \n",
    "# # Display the plot\n",
    "# plt.show()"
   ]
  },
  {
   "cell_type": "markdown",
   "metadata": {},
   "source": [
    "### Bi-Variate Analysis"
   ]
  },
  {
   "cell_type": "code",
   "execution_count": 30,
   "metadata": {},
   "outputs": [],
   "source": [
    "# numerical_columns = ['SeniorCitizen', 'tenure', 'MonthlyCharges', 'TotalCharges']\n",
    "# numerical_columns"
   ]
  },
  {
   "cell_type": "code",
   "execution_count": null,
   "metadata": {},
   "outputs": [
    {
     "data": {
      "image/png": "[encoded data removed]",
      "text/plain": [
       "<Figure size 1200x800 with 2 Axes>"
      ]
     },
     "metadata": {},
     "output_type": "display_data"
    }
   ],
   "source": [
    "# numeric_df = train.select_dtypes(include=[np.number])\n",
    "# corr_matrix = numeric_df.corr()\n",
    "# plt.figure(figsize=(12, 8))\n",
    "# sns.heatmap(corr_matrix, annot=True, cmap='coolwarm', linewidths=0.5)\n",
    "# plt.title('Correlation Matrix')\n",
    "# plt.show()"
   ]
  },
  {
   "cell_type": "code",
   "execution_count": 32,
   "metadata": {},
   "outputs": [],
   "source": [
    "# plt.figure(figsize=(10, 6))\n",
    "# sns.violinplot(x='Contract', y='Churn', data=data2, palette='muted')\n",
    "# plt.title('Monthly Charges by Contract Type')\n",
    "# plt.xlabel('Contract Type')\n",
    "# plt.ylabel('Churn')\n",
    "# plt.show()"
   ]
  },
  {
   "cell_type": "markdown",
   "metadata": {},
   "source": [
    "### Multi-Variate Analysis"
   ]
  },
  {
   "cell_type": "code",
   "execution_count": 33,
   "metadata": {},
   "outputs": [],
   "source": [
    "# sns.pairplot(train[['MonthlyCharges', 'TotalCharges', 'tenure', 'Churn']], hue='Churn')\n",
    "# plt.show()"
   ]
  },
  {
   "cell_type": "markdown",
   "metadata": {},
   "source": [
    "### Answering Analytical Questions"
   ]
  },
  {
   "cell_type": "code",
   "execution_count": 34,
   "metadata": {},
   "outputs": [],
   "source": [
    "# ### Demographics associated with churn\n",
    "\n",
    "# # Gender vs Churn\n",
    "# gender_churn = train.groupby('gender')['Churn'].value_counts(normalize=True).unstack()\n",
    "# gender_churn['Churn Rate'] = gender_churn['Yes'] * 100\n",
    " \n",
    "# # Senior Citizen vs Churn\n",
    "# senior_churn = train.groupby('SeniorCitizen')['Churn'].value_counts(normalize=True).unstack()\n",
    "# senior_churn['Churn Rate'] = senior_churn['Yes'] * 100\n",
    "\n",
    "# # Plotting\n",
    "# fig, axes = plt.subplots(1, 2, figsize=(14, 6))\n",
    "# sns.barplot(x=gender_churn.index, y='Churn Rate', data=gender_churn, ax=axes[0])\n",
    "# sns.barplot(x=senior_churn.index, y='Churn Rate', data=senior_churn, ax=axes[1])\n",
    "# axes[0].set_title('Churn Rate by Gender')\n",
    "# axes[1].set_title('Churn Rate by Senior Citizen')\n",
    "# plt.tight_layout()\n",
    "# plt.show()\n"
   ]
  },
  {
   "cell_type": "code",
   "execution_count": 35,
   "metadata": {},
   "outputs": [],
   "source": [
    "# # Group by tenure bins and churn\n",
    "# train['tenure_bins'] = pd.cut(train['tenure'], bins=[0, 12, 24, 36, 48, 60, 72], labels=['0-12', '13-24', '25-36', '37-48', '49-60', '61-72'])\n",
    "# churn_by_tenure = train.groupby('tenure_bins')['Churn'].value_counts(normalize=True).unstack()\n",
    "# churn_by_tenure"
   ]
  },
  {
   "cell_type": "code",
   "execution_count": 36,
   "metadata": {},
   "outputs": [],
   "source": [
    "# # Plotting churn by tenure bins\n",
    "# plt.figure(figsize=(12, 6))\n",
    "# sns.countplot(data=train, x='tenure_bins', hue='Churn', palette={'Yes':'pink', 'No':'skyblue'})\n",
    "# plt.title('Churn by Tenure Bins')\n",
    "# plt.xlabel('Tenure (months)')\n",
    "# plt.ylabel('Count')\n",
    "# plt.legend(title='Churn')\n",
    "# plt.show()"
   ]
  },
  {
   "cell_type": "code",
   "execution_count": 37,
   "metadata": {},
   "outputs": [],
   "source": [
    "# # Internet Service vs Churn\n",
    "# internet_churn = train.groupby('InternetService')['Churn'].value_counts(normalize=True).unstack()\n",
    "# internet_churn['Churn Rate'] = internet_churn['Yes'] * 100\n",
    " \n",
    "# # Plotting\n",
    "# sns.barplot(x=internet_churn.index, y='Churn Rate', data=internet_churn)\n",
    "# plt.title('Churn Rate by Internet Service')\n",
    "# plt.show()"
   ]
  },
  {
   "cell_type": "code",
   "execution_count": 38,
   "metadata": {},
   "outputs": [],
   "source": [
    "# # Contract vs Churn\n",
    "# contract_churn = train.groupby('Contract')['Churn'].value_counts(normalize=True).unstack()\n",
    "# contract_churn['Churn Rate'] = contract_churn['Yes'] * 100\n",
    " \n",
    "# # Plotting\n",
    "# sns.barplot(x=contract_churn.index, y='Churn Rate', data=contract_churn)\n",
    "# plt.title('Churn Rate by Contract Type')\n",
    "# plt.show()"
   ]
  },
  {
   "cell_type": "code",
   "execution_count": 39,
   "metadata": {},
   "outputs": [],
   "source": [
    "# # Tech Support vs Churn\n",
    "# techsupport_churn = train.groupby('TechSupport')['Churn'].value_counts(normalize=True).unstack()\n",
    "# techsupport_churn['Churn Rate'] = techsupport_churn['Yes'] * 100\n",
    " \n",
    "# # Plotting\n",
    "# sns.barplot(x=techsupport_churn.index, y='Churn Rate', data=techsupport_churn)\n",
    "# plt.title('Churn Rate by Tech Support')\n",
    "# plt.show()"
   ]
  },
  {
   "cell_type": "code",
   "execution_count": 40,
   "metadata": {},
   "outputs": [],
   "source": [
    "# # Set the aesthetic style of the plots\n",
    "# sns.set(style=\"whitegrid\")\n",
    "\n",
    "# # Create a bar chart for the 'Contract' column\n",
    "# plt.figure(figsize=(10, 6))\n",
    "# sns.countplot(train, x='PaymentMethod', order=train['PaymentMethod'].value_counts().index)\n",
    "\n",
    "# # Add titles and labels\n",
    "# plt.title('Bar Chart of PaymentMethod Distribution')\n",
    "# plt.xlabel('PaymentMethod')\n",
    "# plt.ylabel('Frequency')\n",
    "\n",
    "# plt.grid(False)\n",
    "\n",
    "# # Display the plot\n",
    "# plt.show()"
   ]
  },
  {
   "cell_type": "markdown",
   "metadata": {},
   "source": [
    "#### **Hypothesis Testing**"
   ]
  },
  {
   "cell_type": "markdown",
   "metadata": {},
   "source": [
    "##### Null Hypothesis\n",
    " ##### (HO) There is no significant difference in churn rates among customers with different contract types.\n",
    "##### Alternative Hpothesis\n",
    "##### (H1) There is a significant difference in churn rates among customers with different contract types."
   ]
  },
  {
   "cell_type": "code",
   "execution_count": 41,
   "metadata": {},
   "outputs": [],
   "source": [
    "# # Drop the row with the unknown value from the Churn column\n",
    "# train.drop(index=2988, inplace=True)\n",
    "# train.reset_index(drop=True, inplace=True)\n",
    "\n",
    "# # Drop 'customerID' column as it is not needed for analysis\n",
    "# train.drop(columns=['customerID'], axis=1, inplace=True)\n",
    "\n",
    "# # Convert Churn to binary\n",
    "# train['Churn'] = train['Churn'].map({'Yes': 1, 'No': 0})\n",
    "# train\n",
    "# # Replace invalid TotalCharges with NaN\n",
    "# train['TotalCharges'] = pd.to_numeric(train['TotalCharges'], errors='coerce')\n",
    "\n",
    "# # Define numerical and categorical columns\n",
    "# num_columns = train.select_dtypes(include=['number']).columns\n",
    "# cat_columns = train.select_dtypes(include=['object']).columns\n",
    "\n",
    "# # Impute missing values for numerical columns\n",
    "# imputer_num = SimpleImputer(strategy='median')\n",
    "# train[num_columns] = imputer_num.fit_transform(train[num_columns])\n",
    "\n",
    "# # Impute missing values for categorical columns\n",
    "# imputer_cat = SimpleImputer(strategy='most_frequent')\n",
    "# train[cat_columns] = imputer_cat.fit_transform(train[cat_columns])\n",
    "\n",
    "# # Create contingency table for Churn and Contract\n",
    "# contingency_table = pd.crosstab(train['Churn'], train['Contract'])\n",
    "\n",
    "# # Perform Chi-Square Test of Independence\n",
    "# chi2, p, dof, expected = chi2_contingency(contingency_table)\n",
    "\n",
    "# # Output the results\n",
    "# print(\"Chi-Square Test\")\n",
    "# print(\"----------------\")\n",
    "# print(f\"Chi-Square Statistic: {chi2}\")\n",
    "# print(f\"P-value: {p}\")\n",
    "# print(f\"Degrees of Freedom: {dof}\")\n",
    "\n",
    "# # Interpret the result based on the p-value\n",
    "# alpha = 0.05\n",
    "# if p < alpha:\n",
    "#     print(\"Reject the null hypothesis: This means there is a significant difference in churn rates among customers with different contract types.\")\n",
    "# else:\n",
    "#     print(\"Fail to reject the null hypothesis: This means there is no significant difference in churn rates among customers with different contract types.\")\n"
   ]
  },
  {
   "cell_type": "markdown",
   "metadata": {},
   "source": [
    "### Data Preparation"
   ]
  },
  {
   "cell_type": "code",
   "execution_count": 42,
   "metadata": {},
   "outputs": [],
   "source": [
    "# train.head()"
   ]
  },
  {
   "cell_type": "markdown",
   "metadata": {},
   "source": [
    "#### Handling misssing values "
   ]
  },
  {
   "cell_type": "code",
   "execution_count": 43,
   "metadata": {},
   "outputs": [],
   "source": [
    "# train['TotalCharges'].fillna(train['TotalCharges'].median(), inplace=True) # TotalCharges column \n"
   ]
  },
  {
   "cell_type": "code",
   "execution_count": 44,
   "metadata": {},
   "outputs": [],
   "source": [
    "# miss_categ = ['MultipleLines', 'OnlineSecurity', 'OnlineBackup',                   #For missing values in categorical columns \n",
    "#                        'DeviceProtection', 'TechSupport', 'StreamingTV', \n",
    "#                        'StreamingMovies', 'Churn']\n",
    "\n",
    "# for col in miss_categ:\n",
    "#     mode_val = train[col].mode()[0]                                      \n",
    "#     train[col].fillna(mode_val, inplace=True)"
   ]
  },
  {
   "cell_type": "markdown",
   "metadata": {},
   "source": [
    "### **Save dataset into Csv file** "
   ]
  },
  {
   "cell_type": "code",
   "execution_count": 45,
   "metadata": {},
   "outputs": [],
   "source": [
    "# train.to_csv(\"train.csv\", index= True)"
   ]
  },
  {
   "cell_type": "code",
   "execution_count": 46,
   "metadata": {},
   "outputs": [],
   "source": [
    "# train.isnull().sum()"
   ]
  },
  {
   "cell_type": "code",
   "execution_count": 47,
   "metadata": {},
   "outputs": [],
   "source": [
    "# train.head()"
   ]
  },
  {
   "cell_type": "markdown",
   "metadata": {},
   "source": [
    "####  **Split data to X and y (Input and Output variables )**"
   ]
  },
  {
   "cell_type": "code",
   "execution_count": 48,
   "metadata": {},
   "outputs": [],
   "source": [
    "# X= train.drop('Churn', axis= 1)\n",
    "# X.head()"
   ]
  },
  {
   "cell_type": "code",
   "execution_count": 49,
   "metadata": {},
   "outputs": [],
   "source": [
    "# y= train['Churn']\n",
    "# y.value_counts()"
   ]
  },
  {
   "cell_type": "code",
   "execution_count": 50,
   "metadata": {},
   "outputs": [],
   "source": [
    "# X.shape, y.shape"
   ]
  },
  {
   "cell_type": "markdown",
   "metadata": {},
   "source": [
    "#### **Split data to categorical and numerical columns**"
   ]
  },
  {
   "cell_type": "code",
   "execution_count": 51,
   "metadata": {},
   "outputs": [],
   "source": [
    "# numerical_columns= X.select_dtypes('number').columns\n",
    "# print(f\"The following are numerical columns{numerical_columns}\")\n",
    "\n",
    "# print(f\"...........................................................................\")\n",
    "# categorical_columns= X.select_dtypes('object').columns\n",
    "# print(f\"\\n The folllowing are categorical columns{categorical_columns}\")\n"
   ]
  },
  {
   "cell_type": "code",
   "execution_count": 52,
   "metadata": {},
   "outputs": [],
   "source": [
    "# # Split the data\n",
    "# X_train, X_test, y_train, y_test = train_test_split(X, y, test_size=0.2, stratify=y, random_state=42)\n",
    "\n",
    "# # Print the shapes of the resulting datasets\n",
    "# (X_train.shape, y_train.shape), (X_test.shape, y_test.shape)"
   ]
  },
  {
   "cell_type": "code",
   "execution_count": 53,
   "metadata": {},
   "outputs": [],
   "source": [
    "# # We use a lable encoder for y because its not a 2 dimentional array \n",
    "\n",
    "# encoder = LabelEncoder()\n",
    "\n",
    "# # Fit the encoder to the target variable\n",
    "# y_train_encoded= encoder.fit_transform(y_train)\n",
    "# y_test_encoded= encoder.transform(y_test)"
   ]
  },
  {
   "cell_type": "code",
   "execution_count": 54,
   "metadata": {},
   "outputs": [],
   "source": [
    "# # Check skewness to determine which scaler to use \n",
    "# X.select_dtypes('number').skew()"
   ]
  },
  {
   "cell_type": "markdown",
   "metadata": {},
   "source": [
    "### Descison\n",
    "Standard scaler is disqualified as our data not anything close to a bell shape \n",
    "MinMax scaller is diqualified as our data has outliers \n",
    "We use Robust Scaler due to the biases in X train  "
   ]
  },
  {
   "cell_type": "code",
   "execution_count": 55,
   "metadata": {},
   "outputs": [],
   "source": [
    "# X.describe().T"
   ]
  },
  {
   "cell_type": "markdown",
   "metadata": {},
   "source": [
    "We decide on Quantile transformer as it transform our data to a close to a bell shape"
   ]
  },
  {
   "cell_type": "markdown",
   "metadata": {},
   "source": [
    "#### *Pipeline*"
   ]
  },
  {
   "cell_type": "code",
   "execution_count": 56,
   "metadata": {},
   "outputs": [],
   "source": [
    "# numeric_pipeline= Pipeline(steps=[ \n",
    "#     ('imputer', SimpleImputer(strategy='median')),\n",
    "#     ('scaler', RobustScaler()),\n",
    "#     ('QuantileTransformation', QuantileTransformer ()),\n",
    "# ])\n",
    "\n",
    "# categorical_pipeline= Pipeline([\n",
    "#    ('imputer', SimpleImputer(strategy='most_frequent')),\n",
    "#    ('encoder', OneHotEncoder()),\n",
    "    \n",
    "# ])\n",
    "\n",
    "# preprocessor = ColumnTransformer(transformers=[\n",
    "#     ('num_pipeline', numeric_pipeline, numerical_columns),\n",
    "#     ('cat_pipeline', categorical_pipeline, categorical_columns),\n",
    "\n",
    "# ])"
   ]
  },
  {
   "cell_type": "code",
   "execution_count": 57,
   "metadata": {},
   "outputs": [],
   "source": [
    "# preprocessor"
   ]
  },
  {
   "cell_type": "markdown",
   "metadata": {},
   "source": [
    "#### **Modeling & Evaluation**"
   ]
  },
  {
   "cell_type": "code",
   "execution_count": 58,
   "metadata": {},
   "outputs": [],
   "source": [
    "# # Define the models\n",
    "# models = [\n",
    "#     ('Logistic Regression', LogisticRegression(random_state=42)),\n",
    "#     ('Random Forest', RandomForestClassifier(random_state=42)),\n",
    "#     ('KNN', KNeighborsClassifier()),\n",
    "#     ('SVM', SVC(probability=True, random_state=42)),\n",
    "#     ('GBM', GradientBoostingClassifier(random_state=42)),\n",
    "#     ('Neural Network', MLPClassifier(random_state=42))\n",
    "# ]\n",
    "\n",
    "\n",
    "# # Arrays to store individual model predictions and their probabilities\n",
    "# model_predictions = {}\n",
    "# model_probabilities = {}\n",
    "\n",
    "# # Store confusion matrices for each model\n",
    "# confusion_matrices = {}\n",
    "\n",
    "# for model_name, classifier in models:\n",
    "#     # Define the pipeline with the classifier\n",
    "#     pipeline = Pipeline(steps=[\n",
    "#         ('preprocessor', preprocessor),\n",
    "#         ('classifier', classifier)\n",
    "#     ])\n",
    "\n",
    "#     # Fit the pipeline on training data\n",
    "#     pipeline.fit(X_train, y_train_encoded)\n",
    "\n",
    "#     # Predict on test data\n",
    "#     y_pred = pipeline.predict(X_test)\n",
    "#     y_prob = pipeline.predict_proba(X_test)[:, 1]\n",
    "\n",
    "#     # Store predictions and probabilities\n",
    "#     model_predictions[model_name] = y_pred\n",
    "#     model_probabilities[model_name] = y_prob\n",
    "#     # Store confusion matrix\n",
    "#     cm = confusion_matrix(y_test_encoded, y_pred)\n",
    "#     confusion_matrices[model_name] = cm\n",
    "\n",
    "#     # Evaluate model performance\n",
    "#     print(model_name)\n",
    "#     print(classification_report(y_test_encoded, y_pred))\n",
    "#     print('=' * 50)\n",
    "\n",
    "#     # Calculate ROC AUC score\n",
    "#     roc_auc = roc_auc_score(y_test_encoded, y_prob)\n",
    "\n",
    "#     # Print ROC AUC score\n",
    "#     print(f'ROC AUC Score: {roc_auc:.4f}')\n",
    "#     print('=' * 50)\n"
   ]
  },
  {
   "cell_type": "code",
   "execution_count": 59,
   "metadata": {},
   "outputs": [],
   "source": [
    "# # Convert confusion matrices to DataFrame\n",
    "# df_scores = pd.DataFrame.from_dict({model_name: [conf_matrix] for model_name, conf_matrix in confusion_matrices.items()}, orient='index', columns=['confusion_matrix'])\n",
    "# df_scores "
   ]
  },
  {
   "cell_type": "code",
   "execution_count": 60,
   "metadata": {},
   "outputs": [],
   "source": [
    "# def plot_confusion_matrices(df_scores, figsize=(15, 8), ncols=3):\n",
    "#     nrows = int(np.ceil(len(df_scores) / ncols))\n",
    "#     fig, axes = plt.subplots(nrows, ncols, figsize=figsize)\n",
    "#     axes = axes.flatten()\n",
    "    \n",
    "#     for i, (model_name, row) in enumerate(df_scores.iterrows()):\n",
    "#         conf_matrix = row['confusion_matrix']\n",
    "#         ax = axes[i]\n",
    "#         sns.heatmap(conf_matrix, annot=True, fmt='d', cmap='Blues',\n",
    "#                     xticklabels=['Not Churn', 'Churn'], yticklabels=['Not Churn', 'Churn'], ax=ax)\n",
    "#         ax.set_xlabel('Predicted labels')\n",
    "#         ax.set_ylabel('True labels')\n",
    "#         ax.set_title(f'Confusion Matrix - {model_name}')\n",
    "    \n",
    "#     plt.tight_layout()\n",
    "#     plt.show()\n",
    "\n",
    "# plot_confusion_matrices(df_scores)"
   ]
  },
  {
   "cell_type": "code",
   "execution_count": 61,
   "metadata": {},
   "outputs": [],
   "source": [
    "# # Plot ROC AUC curve for all models\n",
    "# plt.figure(figsize=(10, 8))\n",
    "\n",
    "# # Iterate over each model's probabilities and plot ROC curve\n",
    "# for model_name, y_prob in model_probabilities.items():\n",
    "#     # Compute ROC curve\n",
    "#     fpr, tpr, _ = roc_curve(y_test_encoded, y_prob)\n",
    "#     roc_auc = auc(fpr, tpr)\n",
    "    \n",
    "#     # Plot ROC curve\n",
    "#     plt.plot(fpr, tpr, lw=2, label=f'{model_name} (AUC = {roc_auc:.2f})')\n",
    "\n",
    "# # Plot random guessing line\n",
    "# plt.plot([0, 1], [0, 1], color='gray', linestyle='--')\n",
    "\n",
    "# # Set plot properties\n",
    "# plt.xlim([0.0, 1.0])\n",
    "# plt.ylim([0.0, 1.05])\n",
    "# plt.xlabel('False Positive Rate')\n",
    "# plt.ylabel('True Positive Rate')\n",
    "# plt.title('Receiver Operating Characteristic (ROC) Curve')\n",
    "# plt.legend(loc=\"lower right\")\n",
    "# plt.grid(False)\n",
    "# plt.show()"
   ]
  },
  {
   "cell_type": "markdown",
   "metadata": {},
   "source": [
    "#### **Hyperparameter Tuning**"
   ]
  },
  {
   "cell_type": "code",
   "execution_count": 62,
   "metadata": {},
   "outputs": [],
   "source": [
    "# param_grids = {\n",
    "#     'Logistic Regression': {\n",
    "#         'classifier__C': [0.01, 0.1, 1, 10, 100],\n",
    "#         'classifier__solver': ['newton-cg', 'lbfgs', 'liblinear']\n",
    "#     },\n",
    "#     'Random Forest': {\n",
    "#         'classifier__n_estimators': [100, 200, 300],\n",
    "#         'classifier__max_depth': [None, 10, 20, 30],\n",
    "#         'classifier__min_samples_split': [2, 5, 10]\n",
    "#     },\n",
    "#     'KNN': {\n",
    "#         'classifier__n_neighbors': [3, 5, 7, 9],\n",
    "#         'classifier__weights': ['uniform', 'distance']\n",
    "#     },\n",
    "#     'SVM': {\n",
    "#         'classifier__C': [0.1, 1, 10, 100],\n",
    "#         'classifier__kernel': ['linear', 'rbf']\n",
    "#     },\n",
    "#     'GBM': {\n",
    "#         'classifier__n_estimators': [100, 200, 300],\n",
    "#         'classifier__learning_rate': [0.01, 0.1, 0.2],\n",
    "#         'classifier__max_depth': [3, 4, 5]\n",
    "#     },\n",
    "#     'Neural Network': {\n",
    "#         'classifier__hidden_layer_sizes': [(50,), (100,), (50, 50)],\n",
    "#         'classifier__activation': ['tanh', 'relu'],\n",
    "#         'classifier__solver': ['sgd', 'adam'],\n",
    "#         'classifier__alpha': [0.0001, 0.001, 0.01]\n",
    "#     }\n",
    "# }"
   ]
  },
  {
   "cell_type": "code",
   "execution_count": 63,
   "metadata": {},
   "outputs": [],
   "source": [
    "# # Perform Hyperparameter Tuning\n",
    "\n",
    "# best_estimators = {}\n",
    "\n",
    "# for model_name, classifier in models:\n",
    "#     # Define the pipeline with the classifier\n",
    "#     pipeline = Pipeline(steps=[\n",
    "#         ('preprocessor', preprocessor),\n",
    "#         ('classifier', classifier)\n",
    "#     ])\n",
    "\n",
    "#     # Get the parameter grid for the current model\n",
    "#     param_grid = param_grids[model_name]\n",
    "    \n",
    "#     # Set up GridSearchCV\n",
    "#     grid_search = GridSearchCV(pipeline, param_grid, cv=5, scoring='roc_auc', n_jobs=-1)\n",
    "    \n",
    "#     # Fit the GridSearchCV\n",
    "#     grid_search.fit(X_train, y_train_encoded)\n",
    "    \n",
    "#     # Store the best estimator\n",
    "#     best_estimators[model_name] = grid_search.best_estimator_\n",
    "\n",
    "#     # Calculate metrics\n",
    "#     accuracy = accuracy_score(y_test_encoded, y_pred)\n",
    "#     precision = precision_score(y_test_encoded, y_pred)\n",
    "#     recall = recall_score(y_test_encoded, y_pred)\n",
    "#     f1 = f1_score(y_test_encoded, y_pred)\n",
    "#     auc_roc = roc_auc_score(y_test_encoded, y_prob)\n",
    "    \n",
    "#     # Print best parameters and ROC AUC score\n",
    "#     print(f'Best parameters for {model_name}: {grid_search.best_params_}')\n",
    "#     print(f'Best ROC AUC score for {model_name}: {grid_search.best_score_:.4f}')\n",
    "#     print(f'Accuracy: {accuracy:.4f}')\n",
    "#     print(f'Precision: {precision:.4f}')\n",
    "#     print(f'Recall: {recall:.4f}')\n",
    "#     print(f'F1 Score: {f1:.4f}')\n",
    "    \n",
    "#     print('=' * 50)"
   ]
  },
  {
   "cell_type": "markdown",
   "metadata": {},
   "source": [
    "Trying it on both balanced and unbalanced data for comparison. For the Balanced data we did oversampling using smote "
   ]
  },
  {
   "cell_type": "code",
   "execution_count": 64,
   "metadata": {},
   "outputs": [],
   "source": [
    "\n",
    "# models = [\n",
    "#     ('Logistic Regression', LogisticRegression(random_state=42)),\n",
    "#     ('Random Forest', RandomForestClassifier(random_state=42)),\n",
    "#     ('KNN', KNeighborsClassifier()),\n",
    "#     ('SVM', SVC(probability=True, random_state=42)),\n",
    "#     ('GBM', GradientBoostingClassifier(random_state=42)),\n",
    "#     ('Neural Network', MLPClassifier(random_state=42))\n",
    "# ]\n"
   ]
  },
  {
   "cell_type": "markdown",
   "metadata": {},
   "source": [
    "#### **Train on unbalanced data**"
   ]
  },
  {
   "cell_type": "code",
   "execution_count": 65,
   "metadata": {},
   "outputs": [],
   "source": [
    "# unbalanced_table =pd.DataFrame(columns=['Model','Accuracy', 'Precision', 'Recall', 'F1_Score'])\n",
    "# unbalanced_pipeline= {}\n",
    " \n",
    "# for model_name, classifier in models:\n",
    "   \n",
    "#     pipeline = Pipeline(steps=[\n",
    "#         ('preprocessor', preprocessor),\n",
    "#         ('classifier', classifier)\n",
    "#     ])\n",
    " \n",
    "#     pipeline.fit(X_train,y_train_encoded)\n",
    "   \n",
    "#     unbalanced_pipeline [model_name]= pipeline\n",
    " \n",
    "#     y_pred = pipeline.predict(X_test)\n",
    " \n",
    "   \n",
    "#     unbalanced_metrics= classification_report(y_test_encoded, y_pred, output_dict=True)\n",
    " \n",
    "#     accuracy= unbalanced_metrics['accuracy']\n",
    "#     precision = unbalanced_metrics['weighted avg']['precision']\n",
    "#     recall = unbalanced_metrics['weighted avg']['recall']\n",
    "#     f1 = unbalanced_metrics['weighted avg']['f1-score']\n",
    " \n",
    "#     unbalanced_table.loc[len(unbalanced_table)]= [model_name, accuracy, precision, recall,f1]\n",
    " \n",
    "# unbalanced_table.sort_values(by='F1_Score')"
   ]
  },
  {
   "cell_type": "markdown",
   "metadata": {},
   "source": [
    "#### **Train on balanced data**"
   ]
  },
  {
   "cell_type": "code",
   "execution_count": 66,
   "metadata": {},
   "outputs": [],
   "source": [
    "# from imblearn.over_sampling import SMOTE, RandomOverSampler\n",
    "# from imblearn.pipeline import Pipeline as imbPipeline\n",
    "\n",
    "# balanced_table =pd.DataFrame(columns=['Model','Accuracy', 'Precision', 'Recall', 'F1_Score'])\n",
    "# balanced_pipeline= {}\n",
    " \n",
    "# for model_name, classifier in models:\n",
    "   \n",
    "#     pipeline = imbPipeline(steps=[\n",
    "#         ('preprocessor', preprocessor),\n",
    "#         ('OverSampler', SMOTE(random_state=42)),\n",
    "#         ('classifier', classifier)\n",
    "#     ])\n",
    " \n",
    "#     pipeline.fit(X_train,y_train_encoded)\n",
    "   \n",
    "#     balanced_pipeline [model_name]= pipeline\n",
    " \n",
    "#     y_pred = pipeline.predict(X_test)\n",
    " \n",
    "   \n",
    "#     balanced_metrics= classification_report(y_test_encoded, y_pred, output_dict=True)\n",
    " \n",
    "#     accuracy= balanced_metrics['accuracy']\n",
    "#     precision = balanced_metrics['weighted avg']['precision']\n",
    "#     recall = balanced_metrics['weighted avg']['recall']\n",
    "#     f1 = balanced_metrics['weighted avg']['f1-score']\n",
    " \n",
    "#     balanced_table.loc[len(balanced_table)]= [model_name, accuracy, precision, recall,f1]\n",
    " \n",
    "# balanced_table.sort_values(by='F1_Score')"
   ]
  },
  {
   "cell_type": "code",
   "execution_count": 67,
   "metadata": {},
   "outputs": [],
   "source": [
    "# # View balanced data pipelines \n",
    "# balanced_pipeline"
   ]
  },
  {
   "cell_type": "markdown",
   "metadata": {},
   "source": [
    "#### **Answering Analytical Questions** "
   ]
  },
  {
   "cell_type": "code",
   "execution_count": 68,
   "metadata": {},
   "outputs": [],
   "source": [
    "#  #1. What is the Churn percentage as compared to paymment method \n",
    "\n",
    "# churn_percentage = train.groupby('PaymentMethod')['Churn'].mean() * 100 \n",
    "# churn_percentage = churn_percentage.reset_index()\n",
    "# churn_percentage.columns = ['PaymentMethod', 'ChurnPercentage']\n",
    "# print(churn_percentage)\n",
    "\n",
    "\n",
    "# # Create a bar plot of churn percentage by payment method\n",
    "# plt.figure(figsize=(10, 6))\n",
    "# sns.barplot(x='PaymentMethod', y='ChurnPercentage', data=churn_percentage)\n",
    "\n",
    "# # Add title and labels\n",
    "# plt.title('Churn Percentage by Payment Method')\n",
    "# plt.xlabel('Payment Method')\n",
    "# plt.ylabel('Churn Percentage')\n",
    "\n",
    "# # Rotate x labels for better readability\n",
    "# plt.xticks(rotation=45)\n",
    "\n",
    "# plt.grid(False)\n",
    "\n",
    "# # Show plot\n",
    "# plt.show()"
   ]
  },
  {
   "cell_type": "code",
   "execution_count": 69,
   "metadata": {},
   "outputs": [],
   "source": [
    "# #2. How does key demographic factors (i.e, 'gender', 'Partner', 'SeniorCitizen', 'Dependents') influence customer churn?\n",
    "\n",
    "\n",
    "# # Define the demographic features\n",
    "# demographic_features = ['gender', 'Partner', 'SeniorCitizen', 'Dependents']\n",
    "\n",
    "# # Plotting the churn rates for each demographic feature\n",
    "# plt.figure(figsize=(14, 10))\n",
    "\n",
    "# for i, feature in enumerate(demographic_features, 1):\n",
    "#     plt.subplot(2, 2, i)\n",
    "#     churn_rates = train.groupby(feature)['Churn'].mean() * 100\n",
    "#     sns.barplot(x=churn_rates.index, y=churn_rates.values, palette='pastel')\n",
    "#     plt.title(f'Churn Rate by {feature}')\n",
    "#     plt.xlabel(feature)\n",
    "#     plt.ylabel('Churn Rate (%)')\n",
    "#     plt.grid(False)\n",
    "\n",
    "# plt.tight_layout()\n",
    "# plt.show()\n"
   ]
  },
  {
   "cell_type": "code",
   "execution_count": 70,
   "metadata": {},
   "outputs": [],
   "source": [
    "# #6. How do different contract types affect customer churn?\n",
    "\n",
    "# # Plotting the count of churn for each contract type\n",
    "# plt.figure(figsize=(10, 6))\n",
    "# sns.countplot(data=train, x='Contract', hue='Churn', palette='muted')\n",
    "# plt.title('Comparison of Churn by Contract Type')\n",
    "# plt.xlabel('Contract Type')\n",
    "# plt.ylabel('Count')\n",
    "# plt.xticks(rotation=45)\n",
    "# plt.tight_layout()\n",
    "# plt.grid(False)\n",
    "# plt.show()"
   ]
  },
  {
   "cell_type": "code",
   "execution_count": 71,
   "metadata": {},
   "outputs": [],
   "source": [
    "# #3. How does the tenure of a customer impact their likelihood of churning?\n",
    "\n",
    "\n",
    "# np.random.seed(0) #enuring the starting point is the same every time\n",
    "# n_customers = 1000 # Setting a sumple for number if customers we are working with in this particular graph\n",
    "# tenure_months = np.random.randint(1, 36, size=n_customers) #Generate tenure data to ensure we simulate the number of months the customer has been \n",
    "# churn_prob = np.clip(0.05 * tenure_months, 0, 0.8)  # Calculate churn probability\n",
    "# churned = np.random.random(size=n_customers) < churn_prob # Generating churn data\n",
    "# churn_prime = pd.DataFrame({'tenure': tenure_months, 'Churn': churned}) # Create a dataframe with the generated tenure and churn data\n",
    "\n",
    "# # Define tenure buckets \n",
    "# tenure_bins = [0, 6, 12, 18, 24, 30, 36]\n",
    "# tenure_labels = ['0-6', '6-12', '12-18', '18-24', '24-30', '30-36']\n",
    "\n",
    "# # Assign each customer to a tenure bucket\n",
    "# churn_prime['tenure_bucket'] = pd.cut(churn_prime['tenure'], bins=tenure_bins, labels=tenure_labels, right=False)\n",
    "\n",
    "# # Calculate churn rates for each tenure bucket\n",
    "# churn_rates = churn_prime.groupby('tenure_bucket')['Churn'].mean() * 100\n",
    "\n",
    "# # Plotting the churn rates\n",
    "# plt.figure(figsize=(10, 6))\n",
    "# sns.barplot(x=churn_rates.index, y=churn_rates.values, color='skyblue')\n",
    "# plt.title('Churn Rate by Tenure')\n",
    "# plt.xlabel('Tenure (months)')\n",
    "# plt.ylabel('Churn Rate (%)')\n",
    "# plt.xticks(rotation=45)\n",
    "# plt.tight_layout()\n",
    "# plt.grid (False)\n",
    "# plt.show()"
   ]
  },
  {
   "cell_type": "code",
   "execution_count": 72,
   "metadata": {},
   "outputs": [],
   "source": [
    "# #4. Is there a significant correlation between the type of internet service and customer churn?\n",
    "\n",
    "# from scipy.stats import chi2_contingency\n",
    "# # Data generation \n",
    "# np.random.seed(0)\n",
    "# data = pd.DataFrame({\n",
    "#     'InternetService': np.random.choice(['DSL', 'Fiber optic', 'No'], size=1000),\n",
    "#     'Churn': np.random.choice([0, 1], size=1000)\n",
    "# })\n",
    "\n",
    "# # Calculate churn rates by internet service type\n",
    "# churn_rates = data.groupby('InternetService')['Churn'].mean() * 100\n",
    "\n",
    "# # Perform chi-square test\n",
    "# # contingency_table = pd.crosstab(data['InternetService'], data['Churn'])\n",
    "# chi2, p, dof, expected = chi2_contingency(contingency_table)\n",
    "\n",
    "# # Print chi-square test results\n",
    "# print(f'Chi2 Statistic: {chi2}')\n",
    "# print(f'P-Value: {p}')\n",
    "\n",
    "# # Plot churn rates\n",
    "# plt.figure(figsize=(10, 6))\n",
    "# sns.barplot(x=churn_rates.index, y=churn_rates.values, palette='pastel')\n",
    "# plt.title('Churn Rate by Internet Service Type')\n",
    "# plt.xlabel('Internet Service Type')\n",
    "# plt.ylabel('Churn Rate (%)')\n",
    "# plt.xticks(rotation=45)\n",
    "# plt.tight_layout()\n",
    "# plt.grid (False)\n",
    "# plt.show()\n",
    "\n",
    "# # Interpretation\n",
    "# if p < 0.05:\n",
    "#     print(\"There is a significant association between Internet Service Type and Churn (p < 0.05).\")\n",
    "# else:\n",
    "#     print(\"There is no significant association between Internet Service Type and Churn (p >= 0.05).\")\n"
   ]
  },
  {
   "cell_type": "code",
   "execution_count": 73,
   "metadata": {},
   "outputs": [],
   "source": [
    "# #5. Do customers with multiple services show different churn rates compared to those with  fewer services?\n",
    "\n",
    "# # Data generation \n",
    "# np.random.seed(0)\n",
    "# n_customers = 1000\n",
    "# data = pd.DataFrame({\n",
    "#     'PhoneService': np.random.choice(['Yes', 'No'], size=n_customers),\n",
    "#     'InternetService': np.random.choice(['DSL', 'Fiber optic', 'No'], size=n_customers),\n",
    "#     'MultipleLines': np.random.choice(['Yes', 'No', 'No phone service'], size=n_customers),\n",
    "#     'OnlineSecurity': np.random.choice(['Yes', 'No', 'No internet service'], size=n_customers),\n",
    "#     'OnlineBackup': np.random.choice(['Yes', 'No', 'No internet service'], size=n_customers),\n",
    "#     'DeviceProtection': np.random.choice(['Yes', 'No', 'No internet service'], size=n_customers),\n",
    "#     'TechSupport': np.random.choice(['Yes', 'No', 'No internet service'], size=n_customers),\n",
    "#     'StreamingTV': np.random.choice(['Yes', 'No', 'No internet service'], size=n_customers),\n",
    "#     'StreamingMovies': np.random.choice(['Yes', 'No', 'No internet service'], size=n_customers),\n",
    "#     'Churn': np.random.choice([0, 1], size=n_customers)\n",
    "# })\n",
    "\n",
    "# # Define a function to count the number of services a customer has\n",
    "# def count_services(row):\n",
    "#     services = ['PhoneService', 'InternetService', 'MultipleLines', 'OnlineSecurity', \n",
    "#                 'OnlineBackup', 'DeviceProtection', 'TechSupport', 'StreamingTV', 'StreamingMovies']\n",
    "#     count = 0\n",
    "#     for service in services:\n",
    "#         if row[service] in ['Yes', 'DSL', 'Fiber optic']:\n",
    "#             count += 1\n",
    "#     return count\n",
    "\n",
    "# # Create a new column for the number of services\n",
    "# data['NumberOfServices'] = data.apply(count_services, axis=1)\n",
    "\n",
    "# # Calculate churn rates by number of services\n",
    "# churn_rates = data.groupby('NumberOfServices')['Churn'].mean() * 100\n",
    "\n",
    "# # Plotting the churn rates\n",
    "# plt.figure(figsize=(10, 6))\n",
    "# sns.barplot(x=churn_rates.index, y=churn_rates.values, palette='pastel')\n",
    "# plt.title('Churn Rate by Number of Services')\n",
    "# plt.xlabel('Number of Services')\n",
    "# plt.ylabel('Churn Rate (%)')\n",
    "# plt.xticks(rotation=45)\n",
    "# plt.tight_layout()\n",
    "# plt.grid (False)\n",
    "# plt.show()"
   ]
  },
  {
   "cell_type": "code",
   "execution_count": 74,
   "metadata": {},
   "outputs": [],
   "source": [
    "# from sklearn.impute import SimpleImputer #filling mising values\n",
    "\n",
    "# # For categorical features, use the most frequent value\n",
    "# categorical_imputer = SimpleImputer(strategy='most_frequent')\n",
    "\n",
    "# # For numerical features, use the median\n",
    "# numerical_imputer = SimpleImputer(strategy='median')"
   ]
  },
  {
   "cell_type": "code",
   "execution_count": 75,
   "metadata": {},
   "outputs": [],
   "source": [
    "# from sklearn.preprocessing import OneHotEncoder #Encoding\n",
    "\n",
    "# categorical_encoder = OneHotEncoder(handle_unknown='ignore')"
   ]
  },
  {
   "cell_type": "code",
   "execution_count": 76,
   "metadata": {},
   "outputs": [],
   "source": [
    "# from sklearn.pipeline import Pipeline # Create a preprocesing pipeline \n",
    "\n",
    "# categorical_pipeline = Pipeline([\n",
    "#    ('imputer', categorical_imputer),\n",
    "#     ('encoder', categorical_encoder)\n",
    "# ])\n",
    "\n",
    "# numerical_pipeline = Pipeline([\n",
    "#    ('imputer', numerical_imputer),\n",
    "#     # ('scaler', numerical_scaler)\n",
    "# ])"
   ]
  },
  {
   "cell_type": "code",
   "execution_count": 77,
   "metadata": {},
   "outputs": [],
   "source": [
    "# from sklearn.compose import ColumnTransformer # Combine our pipelines \n",
    "\n",
    "# preprocessor = ColumnTransformer([\n",
    "#     ('cat', categorical_pipeline, categorical_features),\n",
    "#     ('num', numerical_pipeline, numerical_features)\n",
    "# ])"
   ]
  },
  {
   "cell_type": "code",
   "execution_count": 78,
   "metadata": {},
   "outputs": [],
   "source": [
    "# from sklearn.ensemble import RandomForestClassifier # Build the final pipeline with  a ml model\n",
    "\n",
    "# model = Pipeline([\n",
    "#     ('preprocessor', preprocessor),\n",
    "#    ('classifier', RandomForestClassifier())\n",
    "# ])\n"
   ]
  },
  {
   "cell_type": "code",
   "execution_count": 79,
   "metadata": {},
   "outputs": [],
   "source": [
    "# from sklearn.model_selection import train_test_split\n",
    "# from sklearn.metrics import accuracy_score, confusion_matrix, classification_report #train and evaluate the model \n",
    "\n",
    "# # Split the data\n",
    "# X_train, X_test, y_train, y_test = train_test_split(X, y, test_size=0.2, random_state=42)\n",
    "\n",
    "# # Train the model\n",
    "# model.fit(X_train, y_train)\n",
    "\n",
    "# # Make predictions\n",
    "# y_pred = model.predict(X_test)\n",
    "\n",
    "# # Evaluate the model\n",
    "# print('Accuracy:', accuracy_score(y_test, y_pred))\n",
    "# print('Confusion Matrix:\\n', confusion_matrix(y_test, y_pred))\n",
    "# print('Classification Report:\\n', classification_report(y_test, y_pred))"
   ]
  },
  {
   "cell_type": "markdown",
   "metadata": {},
   "source": [
    "#### Checklist \n",
    "    - Missing values are handled \n",
    "    - True to yes and false to no \n",
    "    - Column names renaming \n",
    "    - Monthlycharge and Totalcharge columns need standardized decimals\n",
    "    - Total charges column should be a float datatype\n",
    "    - At least 5 Univariate Bivariate Multivariate Analysis \n",
    "    - Categorical columns analysis \n",
    "    - Hypothesis \n",
    "    - Visuals should check colinearity  Churn rate distribution\n",
    "    - Analytical Questions \n",
    "    - Atleast 4 models\n",
    "    - Evaluation\n",
    "    - Choose 1 model - key metrics must be met \n",
    "    - Hyperparameter tuning must \n",
    "    - Predict test set and visualize resulst\n",
    "    - Ensure to highlight at least 5 key insights, challanges and way forward \n",
    "    - Must have a conclusion"
   ]
  }
 ],
 "metadata": {
  "kernelspec": {
   "display_name": "virtual",
   "language": "python",
   "name": "python3"
  },
  "language_info": {
   "codemirror_mode": {
    "name": "ipython",
    "version": 3
   },
   "file_extension": ".py",
   "mimetype": "text/x-python",
   "name": "python",
   "nbconvert_exporter": "python",
   "pygments_lexer": "ipython3",
   "version": "3.10.11"
  }
 },
 "nbformat": 4,
 "nbformat_minor": 2
}
